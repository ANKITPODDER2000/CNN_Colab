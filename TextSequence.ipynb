{
  "nbformat": 4,
  "nbformat_minor": 0,
  "metadata": {
    "colab": {
      "name": "TextSequence.ipynb",
      "provenance": [],
      "private_outputs": true,
      "collapsed_sections": [],
      "mount_file_id": "1E0JiXczkECgu7n4PalVnvRtRLe_u7lX8",
      "authorship_tag": "ABX9TyNCK9mfK9XvDGqcnqFsxUwn",
      "include_colab_link": true
    },
    "kernelspec": {
      "name": "python3",
      "display_name": "Python 3"
    },
    "accelerator": "GPU"
  },
  "cells": [
    {
      "cell_type": "markdown",
      "metadata": {
        "id": "view-in-github",
        "colab_type": "text"
      },
      "source": [
        "<a href=\"https://colab.research.google.com/github/ANKITPODDER2000/CNN_Colab/blob/master/TextSequence.ipynb\" target=\"_parent\"><img src=\"https://colab.research.google.com/assets/colab-badge.svg\" alt=\"Open In Colab\"/></a>"
      ]
    },
    {
      "cell_type": "code",
      "metadata": {
        "id": "TW86M38fjf2s",
        "colab_type": "code",
        "colab": {}
      },
      "source": [
        "import tensorflow as tf"
      ],
      "execution_count": null,
      "outputs": []
    },
    {
      "cell_type": "code",
      "metadata": {
        "id": "HNaJaV_JKkNS",
        "colab_type": "code",
        "colab": {}
      },
      "source": [
        "import seaborn as sns\n",
        "import matplotlib.pyplot as plt\n",
        "%matplotlib inline"
      ],
      "execution_count": null,
      "outputs": []
    },
    {
      "cell_type": "code",
      "metadata": {
        "id": "1anuMHwID8Zz",
        "colab_type": "code",
        "colab": {}
      },
      "source": [
        "sen_set = [\n",
        "  \"I am Ankit Podder\",\n",
        "  \"I am ankit\",\n",
        "  \"I love my cat!\"\n",
        "]\n",
        "tokenizer = tf.keras.preprocessing.text.Tokenizer(num_words = 1000 , oov_token = \"<OOV>\")\n",
        "tokenizer.fit_on_texts(sen_set)\n",
        "seq =  tokenizer.texts_to_sequences(sen_set)\n",
        "mat = tokenizer.texts_to_matrix(sen_set , mode = \"binary\")\n",
        "print(\"Seq := \",seq)\n",
        "print(\"Mat := \",mat)"
      ],
      "execution_count": null,
      "outputs": []
    },
    {
      "cell_type": "code",
      "metadata": {
        "id": "kHHuIBmVEk-c",
        "colab_type": "code",
        "colab": {}
      },
      "source": [
        "tokenizer.texts_to_matrix([\"I am ankit\"]).shape"
      ],
      "execution_count": null,
      "outputs": []
    },
    {
      "cell_type": "code",
      "metadata": {
        "id": "Yn3zaslpFcCV",
        "colab_type": "code",
        "colab": {}
      },
      "source": [
        "tokenizer.word_index"
      ],
      "execution_count": null,
      "outputs": []
    },
    {
      "cell_type": "code",
      "metadata": {
        "id": "MNzNwYXIF6X3",
        "colab_type": "code",
        "colab": {}
      },
      "source": [
        "tokenizer.word_counts"
      ],
      "execution_count": null,
      "outputs": []
    },
    {
      "cell_type": "code",
      "metadata": {
        "id": "H1IObg_bF9BZ",
        "colab_type": "code",
        "colab": {}
      },
      "source": [
        "tokenizer.index_word"
      ],
      "execution_count": null,
      "outputs": []
    },
    {
      "cell_type": "code",
      "metadata": {
        "id": "uc_0ZBI4MzNM",
        "colab_type": "code",
        "colab": {}
      },
      "source": [
        "import os\n",
        "os.chdir(\"/content/drive/My Drive/NLP/data\")"
      ],
      "execution_count": null,
      "outputs": []
    },
    {
      "cell_type": "code",
      "metadata": {
        "id": "WLGF4YgMR12V",
        "colab_type": "code",
        "colab": {}
      },
      "source": [
        "import pandas as pd\n",
        "\n",
        "msg = pd.read_csv(\"./\"+os.listdir()[0])"
      ],
      "execution_count": null,
      "outputs": []
    },
    {
      "cell_type": "code",
      "metadata": {
        "id": "ReLKszH3SAbG",
        "colab_type": "code",
        "colab": {}
      },
      "source": [
        "msg.head()"
      ],
      "execution_count": null,
      "outputs": []
    },
    {
      "cell_type": "code",
      "metadata": {
        "id": "ACePkjJ-J5WM",
        "colab_type": "code",
        "colab": {}
      },
      "source": [
        "def ch_category(x):\n",
        "    if x=='spam':\n",
        "        return 1\n",
        "    return 0"
      ],
      "execution_count": null,
      "outputs": []
    },
    {
      "cell_type": "code",
      "metadata": {
        "id": "m5_k4beaJ5Zy",
        "colab_type": "code",
        "colab": {}
      },
      "source": [
        "msg['Category'] = msg['Category'].apply(ch_category)"
      ],
      "execution_count": null,
      "outputs": []
    },
    {
      "cell_type": "code",
      "metadata": {
        "id": "q0ZBatnkJ5cu",
        "colab_type": "code",
        "colab": {}
      },
      "source": [
        "msg.head()"
      ],
      "execution_count": null,
      "outputs": []
    },
    {
      "cell_type": "code",
      "metadata": {
        "id": "43dAxoSgSCBc",
        "colab_type": "code",
        "colab": {}
      },
      "source": [
        "max_len_msg = max([len(i) for i in msg['Message']])\n",
        "print(\"Max len of msg is := \",max_len_msg)"
      ],
      "execution_count": null,
      "outputs": []
    },
    {
      "cell_type": "code",
      "metadata": {
        "id": "6SCIujmKTK_I",
        "colab_type": "code",
        "colab": {}
      },
      "source": [
        "num_words  = 10000\n",
        "emb_dim    = 32\n",
        "maxlen     = 120\n",
        "truncating = \"post\"\n",
        "padding    = \"post\"\n",
        "oov_token  = \"<OOV>\""
      ],
      "execution_count": null,
      "outputs": []
    },
    {
      "cell_type": "code",
      "metadata": {
        "id": "jXMuFvz8f8jg",
        "colab_type": "code",
        "colab": {}
      },
      "source": [
        "from sklearn.model_selection import train_test_split"
      ],
      "execution_count": null,
      "outputs": []
    },
    {
      "cell_type": "code",
      "metadata": {
        "id": "ycrOSyofgYg0",
        "colab_type": "code",
        "colab": {}
      },
      "source": [
        "X_train , X_test , y_train , y_test = train_test_split(msg['Message'] , msg['Category'] , test_size = 0.2)"
      ],
      "execution_count": null,
      "outputs": []
    },
    {
      "cell_type": "code",
      "metadata": {
        "id": "aE3KNDtygsml",
        "colab_type": "code",
        "colab": {}
      },
      "source": [
        "train_data = []\n",
        "train_label = []\n",
        "\n",
        "test_data = []\n",
        "test_label = []"
      ],
      "execution_count": null,
      "outputs": []
    },
    {
      "cell_type": "code",
      "metadata": {
        "id": "wc5lUdN5g3vl",
        "colab_type": "code",
        "colab": {}
      },
      "source": [
        "for dat , lab in zip(X_train , y_train):\n",
        "  train_data.append(dat)\n",
        "  train_label.append(lab)\n",
        "\n",
        "for dat , lab in zip(X_test , y_test):\n",
        "  test_data.append(dat)\n",
        "  test_label.append(lab)"
      ],
      "execution_count": null,
      "outputs": []
    },
    {
      "cell_type": "code",
      "metadata": {
        "id": "i1CrNy4fg8e4",
        "colab_type": "code",
        "colab": {}
      },
      "source": [
        "print(len(train_data))\n",
        "print(len(train_label))\n",
        "print(len(test_data))\n",
        "print(len(test_label))"
      ],
      "execution_count": null,
      "outputs": []
    },
    {
      "cell_type": "code",
      "metadata": {
        "id": "6TAN8a7xifMh",
        "colab_type": "code",
        "colab": {}
      },
      "source": [
        "tokenizer = tf.keras.preprocessing.text.Tokenizer(num_words = num_words , oov_token = oov_token)\n",
        "tokenizer.fit_on_texts(train_data)\n",
        "train_seq = tokenizer.texts_to_sequences(train_data)\n",
        "test_seq  = tokenizer.texts_to_sequences(test_data )"
      ],
      "execution_count": null,
      "outputs": []
    },
    {
      "cell_type": "code",
      "metadata": {
        "id": "wmtkI--DkPzP",
        "colab_type": "code",
        "colab": {}
      },
      "source": [
        "train_pad = tf.keras.preprocessing.sequence.pad_sequences(train_seq , maxlen = maxlen , padding = padding , truncating = truncating)\n",
        "test_pad  = tf.keras.preprocessing.sequence.pad_sequences(test_seq  , maxlen = maxlen , padding = padding , truncating = truncating)"
      ],
      "execution_count": null,
      "outputs": []
    },
    {
      "cell_type": "code",
      "metadata": {
        "id": "DYvusqPlkRLD",
        "colab_type": "code",
        "colab": {}
      },
      "source": [
        "import numpy as np\n",
        "train_label = np.array(train_label)\n",
        "test_label  = np.array(test_label )"
      ],
      "execution_count": null,
      "outputs": []
    },
    {
      "cell_type": "code",
      "metadata": {
        "id": "T9eVjpMikyp3",
        "colab_type": "code",
        "colab": {}
      },
      "source": [
        "model1 = tf.keras.models.Sequential([\n",
        "    tf.keras.layers.Embedding(num_words , emb_dim , input_length = maxlen),\n",
        "    tf.keras.layers.GlobalAveragePooling1D(),\n",
        "    tf.keras.layers.Dense(64 , activation = \"relu\"),\n",
        "    tf.keras.layers.Dense(1 , activation = \"sigmoid\")\n",
        "])\n",
        "model1.compile(optimizer = \"rmsprop\" , loss = tf.keras.losses.binary_crossentropy , metrics = ['acc'])\n",
        "model1.summary()"
      ],
      "execution_count": null,
      "outputs": []
    },
    {
      "cell_type": "code",
      "metadata": {
        "id": "mNqNwdkbI7EB",
        "colab_type": "code",
        "colab": {}
      },
      "source": [
        "his1 = model1.fit(train_pad , train_label , epochs = 50 , validation_data = (test_pad , test_label))"
      ],
      "execution_count": null,
      "outputs": []
    },
    {
      "cell_type": "code",
      "metadata": {
        "id": "-6pYbit_JQEU",
        "colab_type": "code",
        "colab": {}
      },
      "source": [
        "def his_details(history):\n",
        "    sns.set_style(\"whitegrid\")\n",
        "    _ , ax = plt.subplots(1 , 2 , figsize = (24,6))\n",
        "    \n",
        "    ax[0].plot(history.history['acc'] , label = \"train data\")\n",
        "    ax[0].plot(history.history['val_acc'] , label = \"test data\")\n",
        "    ax[0].set_title(\"Accurecy\")\n",
        "    ax[0].legend()\n",
        "\n",
        "    ax[1].plot(history.history['loss'] , label = \"train data\")\n",
        "    ax[1].plot(history.history['val_loss'] , label = \"test data\")\n",
        "    ax[1].set_title(\"Crossentropy\")\n",
        "    ax[1].legend()"
      ],
      "execution_count": null,
      "outputs": []
    },
    {
      "cell_type": "code",
      "metadata": {
        "id": "HvgGqoCFJdbl",
        "colab_type": "code",
        "colab": {}
      },
      "source": [
        "his_details(his1)"
      ],
      "execution_count": null,
      "outputs": []
    },
    {
      "cell_type": "code",
      "metadata": {
        "id": "AR0YqW0bLNEw",
        "colab_type": "code",
        "colab": {}
      },
      "source": [
        "model2 = tf.keras.models.Sequential([\n",
        "    tf.keras.layers.Embedding(num_words , emb_dim , input_length = maxlen),\n",
        "    tf.keras.layers.Bidirectional(tf.keras.layers.LSTM(20)),\n",
        "    tf.keras.layers.Dense(64 , activation = \"relu\"),\n",
        "    tf.keras.layers.Dropout(0.25),\n",
        "    tf.keras.layers.Dense(64 , activation = \"relu\"),\n",
        "    tf.keras.layers.Dropout(0.25),\n",
        "    tf.keras.layers.Dense(1 , activation = \"sigmoid\")\n",
        "])\n",
        "model2.compile(optimizer = \"rmsprop\" , loss = tf.keras.losses.binary_crossentropy , metrics = ['acc'])\n",
        "model2.summary()\n",
        "his1 = model2.fit(train_pad , train_label , epochs = 25 , validation_data = (test_pad , test_label))"
      ],
      "execution_count": null,
      "outputs": []
    },
    {
      "cell_type": "code",
      "metadata": {
        "id": "ydz5mGUqLsOk",
        "colab_type": "code",
        "colab": {}
      },
      "source": [
        "his_details(his1)#this is for model2"
      ],
      "execution_count": null,
      "outputs": []
    },
    {
      "cell_type": "code",
      "metadata": {
        "id": "ql1ABJz1ODIC",
        "colab_type": "code",
        "colab": {}
      },
      "source": [
        "model3 = tf.keras.models.Sequential([\n",
        "    tf.keras.layers.Embedding(num_words , emb_dim , input_length = maxlen),\n",
        "    tf.keras.layers.Bidirectional(tf.keras.layers.LSTM(32)),\n",
        "    tf.keras.layers.Dense(64 , activation = \"relu\"),\n",
        "    tf.keras.layers.Dropout(0.5),\n",
        "    tf.keras.layers.Dense(64 , activation = \"relu\"),\n",
        "    tf.keras.layers.Dropout(0.5),\n",
        "    tf.keras.layers.Dense(1 , activation = \"sigmoid\")\n",
        "])\n",
        "model3.compile(optimizer = \"rmsprop\" , loss = tf.keras.losses.binary_crossentropy , metrics = ['acc'])\n",
        "model3.summary()\n",
        "his3 = model3.fit(train_pad , train_label , epochs = 25 , validation_data = (test_pad , test_label))"
      ],
      "execution_count": null,
      "outputs": []
    },
    {
      "cell_type": "code",
      "metadata": {
        "id": "mreZfh6EOQuT",
        "colab_type": "code",
        "colab": {}
      },
      "source": [
        "his_details(his3)#this is for model3"
      ],
      "execution_count": null,
      "outputs": []
    },
    {
      "cell_type": "code",
      "metadata": {
        "id": "cr6ffN-pOoFB",
        "colab_type": "code",
        "colab": {}
      },
      "source": [
        "model4 = tf.keras.models.Sequential([\n",
        "    tf.keras.layers.Embedding(num_words , emb_dim , input_length = maxlen),\n",
        "    tf.keras.layers.Bidirectional(tf.keras.layers.LSTM(32)),\n",
        "    tf.keras.layers.Dense(64 , kernel_regularizer = tf.keras.regularizers.l2(0.0001) ,  activation = \"relu\"),\n",
        "    tf.keras.layers.Dropout(0.5),\n",
        "    tf.keras.layers.Dense(64 , kernel_regularizer = tf.keras.regularizers.l2(0.0001) ,  activation = \"relu\"),\n",
        "    tf.keras.layers.Dropout(0.5),\n",
        "    tf.keras.layers.Dense(1 , activation = \"sigmoid\")\n",
        "])\n",
        "model4.compile(optimizer = \"rmsprop\" , loss = tf.keras.losses.binary_crossentropy , metrics = ['acc'])\n",
        "model4.summary()\n",
        "his4 = model4.fit(train_pad , train_label , epochs = 20 , batch_size = 32 , verbose = 0 , validation_data = (test_pad , test_label))\n",
        "his_details(his4)#this is for model4"
      ],
      "execution_count": null,
      "outputs": []
    },
    {
      "cell_type": "code",
      "metadata": {
        "id": "kXgwO4tvPEt_",
        "colab_type": "code",
        "colab": {}
      },
      "source": [
        "def seq_to_str(seq):\n",
        "    s = \"\"\n",
        "    for i in seq:\n",
        "        if i==0 :\n",
        "            break\n",
        "        s += tokenizer.index_word[i] + \" \"\n",
        "    s = s[:-1]\n",
        "    s += \".\"\n",
        "    return s"
      ],
      "execution_count": null,
      "outputs": []
    },
    {
      "cell_type": "code",
      "metadata": {
        "id": "9wVtEy99QiPb",
        "colab_type": "code",
        "colab": {}
      },
      "source": [
        "seq_to_str(test_pad[0 , :])"
      ],
      "execution_count": null,
      "outputs": []
    },
    {
      "cell_type": "code",
      "metadata": {
        "id": "DWTfG9JhQ2NM",
        "colab_type": "code",
        "colab": {}
      },
      "source": [
        "test_label[0:10]"
      ],
      "execution_count": null,
      "outputs": []
    },
    {
      "cell_type": "code",
      "metadata": {
        "id": "KzkOOsbsREz6",
        "colab_type": "code",
        "colab": {}
      },
      "source": [
        "model3.predict_classes(test_pad[:10])[:,0]"
      ],
      "execution_count": null,
      "outputs": []
    },
    {
      "cell_type": "code",
      "metadata": {
        "id": "4QCZWFyxRQRn",
        "colab_type": "code",
        "colab": {}
      },
      "source": [
        "def pred(s , model = model3):\n",
        "  classes = [\"Ham\" , \"Spam\"]\n",
        "  str_test = [s]\n",
        "  seq_check = tokenizer.texts_to_sequences(str_test)\n",
        "  #print(seq_check)\n",
        "  seq_check = tf.keras.preprocessing.sequence.pad_sequences(seq_check , maxlen = maxlen , padding = padding , truncating = truncating)\n",
        "  print(\"%s -> %s\"%(str_test[0] , classes[model3.predict_classes(seq_check)[0,0]]))"
      ],
      "execution_count": null,
      "outputs": []
    },
    {
      "cell_type": "code",
      "metadata": {
        "id": "AAn2p2RRRzTB",
        "colab_type": "code",
        "colab": {}
      },
      "source": [
        "pred(\"You won a huge money prize , plz claim your money!\")"
      ],
      "execution_count": null,
      "outputs": []
    },
    {
      "cell_type": "code",
      "metadata": {
        "id": "h6TcNZ_XSCdM",
        "colab_type": "code",
        "colab": {}
      },
      "source": [
        "pred(\"Piyal Sarkar posted a new announcement in MC-IT501.\")"
      ],
      "execution_count": null,
      "outputs": []
    },
    {
      "cell_type": "code",
      "metadata": {
        "id": "--3wKyd8S3Zf",
        "colab_type": "code",
        "colab": {}
      },
      "source": [
        "pred(\"A nostalgia we all love to delve in, September 5 brings back memories while we reminisce about our school days. From the light-speed quick “Happy Teachers’ Day!”, to gifting them stationery and greeting cards, this day holds a special place in our hearts.But how often have we really thought about that one teacher who changed our lives in ways we now cherish and remember fondly?Well, after all these years, it's now time to acknowledge those teachers. And this time, GeeksforGeeks has the nicest way for you to tell us about that one teacher who was nothing less than an inspiration to you.The best accounts shall get featured in our monthly newsletter, Geeks Digest as well as on our social media handles. Fill in the form below to share your story with the world!\")"
      ],
      "execution_count": null,
      "outputs": []
    },
    {
      "cell_type": "code",
      "metadata": {
        "id": "oiOPIKByS-SZ",
        "colab_type": "code",
        "colab": {}
      },
      "source": [
        "pred(\"You were added to this channel on Aug 28, 2020\")"
      ],
      "execution_count": null,
      "outputs": []
    },
    {
      "cell_type": "code",
      "metadata": {
        "id": "1nPdp3mHTEyW",
        "colab_type": "code",
        "colab": {}
      },
      "source": [
        "pred(\"Hi friends\")"
      ],
      "execution_count": null,
      "outputs": []
    },
    {
      "cell_type": "code",
      "metadata": {
        "id": "B_olhv3jTImt",
        "colab_type": "code",
        "colab": {}
      },
      "source": [
        "pred(\"LAST DAY TODAY!! Samsung Big Campus Sale!!\")"
      ],
      "execution_count": null,
      "outputs": []
    }
  ]
}