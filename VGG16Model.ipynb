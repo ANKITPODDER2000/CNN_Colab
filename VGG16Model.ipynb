{
  "nbformat": 4,
  "nbformat_minor": 0,
  "metadata": {
    "colab": {
      "name": "VGG16Model.ipynb",
      "provenance": [],
      "private_outputs": true,
      "collapsed_sections": [],
      "mount_file_id": "12NEV5jN-yyHU6D4K1jej36rfD4BayLXV",
      "authorship_tag": "ABX9TyOaGCqaY5BElX3tyr9Kwbon",
      "include_colab_link": true
    },
    "kernelspec": {
      "name": "python3",
      "display_name": "Python 3"
    },
    "accelerator": "GPU"
  },
  "cells": [
    {
      "cell_type": "markdown",
      "metadata": {
        "id": "view-in-github",
        "colab_type": "text"
      },
      "source": [
        "<a href=\"https://colab.research.google.com/github/ANKITPODDER2000/CNN_Colab/blob/master/VGG16Model.ipynb\" target=\"_parent\"><img src=\"https://colab.research.google.com/assets/colab-badge.svg\" alt=\"Open In Colab\"/></a>"
      ]
    },
    {
      "cell_type": "code",
      "metadata": {
        "id": "E1LgwnoQ8Pe0",
        "colab_type": "code",
        "colab": {}
      },
      "source": [
        "import tensorflow as tf\n",
        "from tensorflow.keras.applications import VGG16\n",
        "from tensorflow.keras.preprocessing.image import ImageDataGenerator\n",
        "print(\"Version of tf is : \" , tf.__version__)"
      ],
      "execution_count": null,
      "outputs": []
    },
    {
      "cell_type": "code",
      "metadata": {
        "id": "YHAWnv9u-Rap",
        "colab_type": "code",
        "colab": {}
      },
      "source": [
        "import os\n",
        "import cv2\n",
        "import numpy as np\n",
        "import matplotlib.pyplot as plt\n",
        "import random\n",
        "%matplotlib inline"
      ],
      "execution_count": null,
      "outputs": []
    },
    {
      "cell_type": "code",
      "metadata": {
        "id": "EB1JFKCL9eV6",
        "colab_type": "code",
        "colab": {}
      },
      "source": [
        "dir = \"/content/drive/My Drive/CNN/Dog&Cat/data/dataset/\"\n",
        "for i in os.listdir(dir):\n",
        "  for j in os.listdir(dir+i):\n",
        "    print(\"No of images in %s is : %d\"%((i+j) , len(os.listdir(dir+i+\"/\"+j))))"
      ],
      "execution_count": null,
      "outputs": []
    },
    {
      "cell_type": "code",
      "metadata": {
        "id": "d-7t594W-qwA",
        "colab_type": "code",
        "colab": {}
      },
      "source": [
        "conv_base = VGG16(weights = \"imagenet\" ,\n",
        "                  include_top = False ,\n",
        "                  input_shape = (150 , 150 , 3))"
      ],
      "execution_count": null,
      "outputs": []
    },
    {
      "cell_type": "code",
      "metadata": {
        "id": "kI3T4NuW-24w",
        "colab_type": "code",
        "colab": {}
      },
      "source": [
        "conv_base.summary()"
      ],
      "execution_count": null,
      "outputs": []
    },
    {
      "cell_type": "code",
      "metadata": {
        "id": "5_H8xb72_7hu",
        "colab_type": "code",
        "colab": {}
      },
      "source": [
        "train_dir = \"/content/drive/My Drive/CNN/Dog&Cat/data/dataset/training_set/\"\n",
        "test_dir  = \"/content/drive/My Drive/CNN/Dog&Cat/data/dataset/test_set/\""
      ],
      "execution_count": null,
      "outputs": []
    },
    {
      "cell_type": "code",
      "metadata": {
        "id": "jRMNxR9mAHo_",
        "colab_type": "code",
        "colab": {}
      },
      "source": [
        "train_data_aug = ImageDataGenerator(rescale = (1.0 / 255.0) ,\n",
        "                                    rotation_range = 40 ,\n",
        "                                    height_shift_range = 0.2 ,\n",
        "                                    width_shift_range = 0.2 ,\n",
        "                                    shear_range = 0.2 ,\n",
        "                                    zoom_range = 0.2 ,\n",
        "                                    horizontal_flip = True ,\n",
        "                                    fill_mode = \"nearest\")\n",
        "\n",
        "test_data_aug  = ImageDataGenerator(rescale = (1.0 / 255.0) )\n",
        "\n",
        "train_data_aug = train_data_aug.flow_from_directory(train_dir ,\n",
        "                                                    batch_size = 20 ,\n",
        "                                                    target_size = (150 , 150) ,\n",
        "                                                    class_mode = \"binary\")\n",
        "\n",
        "test_data_aug = test_data_aug.flow_from_directory(test_dir ,\n",
        "                                                  batch_size = 20 ,\n",
        "                                                  target_size = (150 , 150) ,\n",
        "                                                  class_mode = \"binary\")\n"
      ],
      "execution_count": null,
      "outputs": []
    },
    {
      "cell_type": "code",
      "metadata": {
        "id": "ptQV9V7lAx1b",
        "colab_type": "code",
        "colab": {}
      },
      "source": [
        "_ ,ax = plt.subplots(1,5,figsize = (20,5))\n",
        "for i in range(5):\n",
        "  ax[i].imshow(train_data_aug[0][0][0])"
      ],
      "execution_count": null,
      "outputs": []
    },
    {
      "cell_type": "code",
      "metadata": {
        "id": "qvL15p9bBA_I",
        "colab_type": "code",
        "colab": {}
      },
      "source": [
        "model1 = tf.keras.models.Sequential()\n",
        "model1.add(conv_base)\n",
        "model1.add(tf.keras.layers.Flatten())\n",
        "model1.add(tf.keras.layers.Dense(256 , activation = \"relu\"))\n",
        "model1.add(tf.keras.layers.Dense(256 , activation = \"relu\"))\n",
        "model1.add(tf.keras.layers.Dense(1 , activation = \"sigmoid\"))\n",
        "model1.summary()"
      ],
      "execution_count": null,
      "outputs": []
    },
    {
      "cell_type": "code",
      "metadata": {
        "id": "o5N5xGt6CQMq",
        "colab_type": "code",
        "colab": {}
      },
      "source": [
        "conv_base.trainable = False "
      ],
      "execution_count": null,
      "outputs": []
    },
    {
      "cell_type": "code",
      "metadata": {
        "id": "s3Ki2d5sCaKC",
        "colab_type": "code",
        "colab": {}
      },
      "source": [
        "model1.summary()"
      ],
      "execution_count": null,
      "outputs": []
    },
    {
      "cell_type": "code",
      "metadata": {
        "id": "jXQcBbPsCc87",
        "colab_type": "code",
        "colab": {}
      },
      "source": [
        "model1.compile(optimizer = \"rmsprop\" , loss = tf.keras.losses.binary_crossentropy , metrics = ['acc'])"
      ],
      "execution_count": null,
      "outputs": []
    },
    {
      "cell_type": "code",
      "metadata": {
        "id": "M1ob15CMCpWn",
        "colab_type": "code",
        "colab": {}
      },
      "source": [
        "class myCallbacks(tf.keras.callbacks.Callback):\n",
        "  def on_epoch_end(self , epoch , logs = {}):\n",
        "    if logs.get('acc')>=0.98:\n",
        "      self.model.stop_training = True\n",
        "      print(\"Get 98% acc on train data!\")"
      ],
      "execution_count": null,
      "outputs": []
    },
    {
      "cell_type": "code",
      "metadata": {
        "id": "SdSj45nPDLmn",
        "colab_type": "code",
        "colab": {}
      },
      "source": [
        "callbacks = myCallbacks\n",
        "epochs = 30\n",
        "his1 = model1.fit(train_data_aug ,\n",
        "                  steps_per_epoch = train_data_aug.n // train_data_aug.batch_size ,\n",
        "                  epochs = epochs ,\n",
        "                  validation_data = test_data_aug ,\n",
        "                  validation_steps = test_data_aug.n // test_data_aug.batch_size,\n",
        "                  callbacks = [callbacks()])"
      ],
      "execution_count": null,
      "outputs": []
    },
    {
      "cell_type": "code",
      "metadata": {
        "id": "eCpMpYVTDwKt",
        "colab_type": "code",
        "colab": {}
      },
      "source": [
        "import seaborn as sns\n",
        "sns.set_style(\"darkgrid\")\n",
        "def plot_his(history):\n",
        "  _ , ax = plt.subplots(1 , 2 ,figsize = (18 , 6))\n",
        "  ax[0].plot(history.history['acc'] , label = \"Training data\")\n",
        "  ax[0].plot(history.history['val_acc'] , label = \"Testing data\")\n",
        "  ax[0].set_title(\"Accurecy\")\n",
        "  ax[0].legend()\n",
        "\n",
        "  ax[1].plot(history.history['loss'] , label = \"Training data\")\n",
        "  ax[1].plot(history.history['val_loss'] , label = \"Testing data\")\n",
        "  ax[1].set_title(\"Loss\")\n",
        "  ax[1].legend()"
      ],
      "execution_count": null,
      "outputs": []
    },
    {
      "cell_type": "code",
      "metadata": {
        "id": "wir0DWbuh36l",
        "colab_type": "code",
        "colab": {}
      },
      "source": [
        "plot_his(his1)"
      ],
      "execution_count": null,
      "outputs": []
    },
    {
      "cell_type": "code",
      "metadata": {
        "id": "bqRKAEE-h65L",
        "colab_type": "code",
        "colab": {}
      },
      "source": [
        "conv_base.trainable = True"
      ],
      "execution_count": null,
      "outputs": []
    },
    {
      "cell_type": "code",
      "metadata": {
        "id": "B6umH0PPiCsX",
        "colab_type": "code",
        "colab": {}
      },
      "source": [
        "train = False\n",
        "for layer in conv_base.layers:\n",
        "  if layer.name == 'block5_conv1':\n",
        "    train = True\n",
        "  layer.trainable = train"
      ],
      "execution_count": null,
      "outputs": []
    },
    {
      "cell_type": "code",
      "metadata": {
        "id": "NLRDmWZhiTxG",
        "colab_type": "code",
        "colab": {}
      },
      "source": [
        "model2 = tf.keras.models.Sequential()\n",
        "model2.add(conv_base)\n",
        "model2.add(tf.keras.layers.Flatten())\n",
        "model2.add(tf.keras.layers.Dense(256 , activation = \"relu\"))\n",
        "model2.add(tf.keras.layers.Dense(256 , activation = \"relu\"))\n",
        "model2.add(tf.keras.layers.Dense(1 , activation = \"sigmoid\"))\n",
        "\n",
        "model2.compile(loss='binary_crossentropy',\n",
        "               optimizer=tf.keras.optimizers.RMSprop(lr=1e-5) ,\n",
        "               metrics=['acc'])\n",
        "\n",
        "model2.summary()"
      ],
      "execution_count": null,
      "outputs": []
    },
    {
      "cell_type": "code",
      "metadata": {
        "id": "nC5sYu31iu2R",
        "colab_type": "code",
        "colab": {}
      },
      "source": [
        "callbacks = myCallbacks\n",
        "epochs = 50\n",
        "his2 = model2.fit(train_data_aug ,\n",
        "                  steps_per_epoch = train_data_aug.n // train_data_aug.batch_size ,\n",
        "                  epochs = epochs ,\n",
        "                  validation_data = test_data_aug ,\n",
        "                  validation_steps = test_data_aug.n // test_data_aug.batch_size,\n",
        "                  callbacks = [callbacks()])"
      ],
      "execution_count": null,
      "outputs": []
    },
    {
      "cell_type": "code",
      "metadata": {
        "id": "nlXQpyyMi67r",
        "colab_type": "code",
        "colab": {}
      },
      "source": [
        "plot_his(his2)"
      ],
      "execution_count": null,
      "outputs": []
    },
    {
      "cell_type": "code",
      "metadata": {
        "id": "2DHRyJLRyp6M",
        "colab_type": "code",
        "colab": {}
      },
      "source": [
        "img = tf.keras.utils.get_file(\"dog1.jpg\" , \"https://post.medicalnewstoday.com/wp-content/uploads/sites/3/2020/02/322868_1100-800x825.jpg\")"
      ],
      "execution_count": null,
      "outputs": []
    },
    {
      "cell_type": "code",
      "metadata": {
        "id": "xJXgfIVhzKHj",
        "colab_type": "code",
        "colab": {}
      },
      "source": [
        "img_pic = cv2.imread(img)\n",
        "print(\"Shape of img : \" , img_pic.shape)\n",
        "\n",
        "new_img = cv2.resize(img_pic , (150 , 150))\n",
        "print(new_img.shape)\n",
        "\n",
        "plt.imshow(new_img)"
      ],
      "execution_count": null,
      "outputs": []
    },
    {
      "cell_type": "code",
      "metadata": {
        "id": "hq2OoJIB1X9N",
        "colab_type": "code",
        "colab": {}
      },
      "source": [
        "new_img = new_img / 255.0"
      ],
      "execution_count": null,
      "outputs": []
    },
    {
      "cell_type": "code",
      "metadata": {
        "id": "Of48kYXO1mgH",
        "colab_type": "code",
        "colab": {}
      },
      "source": [
        "model2.predict(new_img[np.newaxis , ])"
      ],
      "execution_count": null,
      "outputs": []
    },
    {
      "cell_type": "code",
      "metadata": {
        "id": "rO9UDaJm143m",
        "colab_type": "code",
        "colab": {}
      },
      "source": [
        "rev_pred = {}\n",
        "for k , v in train_data_aug.class_indices.items():\n",
        "  rev_pred[v] = k"
      ],
      "execution_count": null,
      "outputs": []
    },
    {
      "cell_type": "code",
      "metadata": {
        "id": "8XDcsitP2QgZ",
        "colab_type": "code",
        "colab": {}
      },
      "source": [
        "def prediction(p,link,exten,print_details = False):\n",
        "  file_name = \"animal\"+str(random.randint(1,100000))+\".\"+exten\n",
        "  img = tf.keras.utils.get_file(file_name , link)\n",
        "  img_pic = cv2.imread(img)\n",
        "  if print_details:\n",
        "    print(\"Shape of img : \" , img_pic.shape)\n",
        "  new_img = cv2.resize(img_pic , (150 , 150))\n",
        "  if print_details:\n",
        "    print(new_img.shape)\n",
        "  new_img = new_img / 255.0\n",
        "  pred = model2.predict_classes(new_img[np.newaxis , ])[0,0]\n",
        "  \n",
        "  p.imshow(new_img)\n",
        "  p.grid(False)\n",
        "  p.set_title(rev_pred[pred])"
      ],
      "execution_count": null,
      "outputs": []
    },
    {
      "cell_type": "code",
      "metadata": {
        "id": "qO6U2AAj2oOo",
        "colab_type": "code",
        "colab": {}
      },
      "source": [
        "prediction(\"https://post.medicalnewstoday.com/wp-content/uploads/sites/3/2020/02/322868_1100-800x825.jpg\" , \"jpg\")"
      ],
      "execution_count": null,
      "outputs": []
    },
    {
      "cell_type": "code",
      "metadata": {
        "id": "YOyewLiV4APn",
        "colab_type": "code",
        "colab": {}
      },
      "source": [
        "prediction(\"https://static.toiimg.com/photo/msid-67586673/67586673.jpg?resizemode=4&width=400\" , \"jpg\")"
      ],
      "execution_count": null,
      "outputs": []
    },
    {
      "cell_type": "code",
      "metadata": {
        "id": "hGlrufUG50Su",
        "colab_type": "code",
        "colab": {}
      },
      "source": [
        "model2.predict_classes(new_img[np.newaxis , ])[0,0]"
      ],
      "execution_count": null,
      "outputs": []
    },
    {
      "cell_type": "code",
      "metadata": {
        "id": "HjHZaFdU57Zn",
        "colab_type": "code",
        "colab": {}
      },
      "source": [
        "link = [\n",
        "  [\"https://cdn.vox-cdn.com/thumbor/7TCV657-4hrkIYtUeJ3wOh0fI_s=/0x248:4758x2924/1600x900/cdn.vox-cdn.com/uploads/chorus_image/image/42021742/8536633928_62a8d4fb3b_o.0.0.jpg\",\"jpg\"],\n",
        "  [\"https://www.thesprucepets.com/thmb/jNFhHl2Uz3SmZrQmrcbCLO4kPu8=/735x0/close-up-of-cat-lying-on-floor-at-home-908763830-1d61bee6961b45ee8a55bdfa5da1ebb3.jpg\" , \"jpg\"],\n",
        "  [\"https://cdn.vox-cdn.com/thumbor/3CLCd-YqNX4yul1wX4zOajKD8ss=/0x0:1280x720/1200x800/filters:focal(538x258:742x462)/cdn.vox-cdn.com/uploads/chorus_image/image/53091739/maxresdefault.0.jpg\" , \"jpg\"],\n",
        "  [\"https://post.medicalnewstoday.com/wp-content/uploads/sites/3/2020/02/322868_1100-800x825.jpg\" , \"jpg\"]\n",
        "]\n",
        "_ , ax = plt.subplots(1 , 4 , figsize = (18 , 4))\n",
        "count  = 0\n",
        "for i in link:\n",
        "  prediction(ax[count] , i[0] , i[1])\n",
        "  count += 1"
      ],
      "execution_count": null,
      "outputs": []
    },
    {
      "cell_type": "code",
      "metadata": {
        "id": "LB8_cg6Y7h5b",
        "colab_type": "code",
        "colab": {}
      },
      "source": [
        ""
      ],
      "execution_count": null,
      "outputs": []
    }
  ]
}