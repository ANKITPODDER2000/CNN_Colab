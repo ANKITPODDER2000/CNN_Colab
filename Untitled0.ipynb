{
  "nbformat": 4,
  "nbformat_minor": 0,
  "metadata": {
    "colab": {
      "name": "Untitled0.ipynb",
      "provenance": [],
      "collapsed_sections": [],
      "mount_file_id": "1I_TUZ0N-QeTTygajnpMr64JYzlX3hVkt",
      "authorship_tag": "ABX9TyMHpKewST/GqbkOFROws6H5",
      "include_colab_link": true
    },
    "kernelspec": {
      "name": "python3",
      "display_name": "Python 3"
    },
    "accelerator": "GPU"
  },
  "cells": [
    {
      "cell_type": "markdown",
      "metadata": {
        "id": "view-in-github",
        "colab_type": "text"
      },
      "source": [
        "<a href=\"https://colab.research.google.com/github/ANKITPODDER2000/CNN_Colab/blob/master/Untitled0.ipynb\" target=\"_parent\"><img src=\"https://colab.research.google.com/assets/colab-badge.svg\" alt=\"Open In Colab\"/></a>"
      ]
    },
    {
      "cell_type": "code",
      "metadata": {
        "id": "TwcRvI1u6BXa"
      },
      "source": [
        "from google.colab import files\n",
        "files.upload()\n",
        "\n",
        "! mkdir ~/.kaggle\n",
        "! cp kaggle.json ~/.kaggle/\n",
        "! chmod 600 ~/.kaggle/kaggle.json\n",
        "\n",
        "!kaggle datasets download -d paultimothymooney/chest-xray-pneumonia"
      ],
      "execution_count": null,
      "outputs": []
    },
    {
      "cell_type": "code",
      "metadata": {
        "id": "M7D05ubM6lus",
        "outputId": "6a320158-8867-4dd1-c783-457d67077f23",
        "colab": {
          "base_uri": "https://localhost:8080/",
          "height": 34
        }
      },
      "source": [
        "import shutil\n",
        "import os\n",
        "import zipfile\n",
        "import tensorflow as tf\n",
        "import seaborn as sns\n",
        "import matplotlib.pyplot as plt\n",
        "sns.set_style(\"darkgrid\")\n",
        "import numpy as np\n",
        "print(\"Version of tensorflow is : \",tf.__version__)"
      ],
      "execution_count": 2,
      "outputs": [
        {
          "output_type": "stream",
          "text": [
            "Version of tensorflow is :  2.3.0\n"
          ],
          "name": "stdout"
        }
      ]
    },
    {
      "cell_type": "code",
      "metadata": {
        "id": "34vz4XAr7KBK",
        "outputId": "5ade4372-54c8-42c0-e58b-4efa2f819d4b",
        "colab": {
          "base_uri": "https://localhost:8080/",
          "height": 35
        }
      },
      "source": [
        "shutil.copyfile(\"/content/chest-xray-pneumonia.zip\" , \"/content/drive/My Drive/X-Ray Images/data.zip\")"
      ],
      "execution_count": 4,
      "outputs": [
        {
          "output_type": "execute_result",
          "data": {
            "application/vnd.google.colaboratory.intrinsic+json": {
              "type": "string"
            },
            "text/plain": [
              "'/content/drive/My Drive/X-Ray Images/data.zip'"
            ]
          },
          "metadata": {
            "tags": []
          },
          "execution_count": 4
        }
      ]
    },
    {
      "cell_type": "code",
      "metadata": {
        "id": "nNdqfaru7SY4"
      },
      "source": [
        "fl = zipfile.ZipFile(\"/content/drive/My Drive/X-Ray Images/data.zip\" , \"r\")"
      ],
      "execution_count": 5,
      "outputs": []
    },
    {
      "cell_type": "code",
      "metadata": {
        "id": "4Sz0MgtQ70Tn"
      },
      "source": [
        "os.chdir(\"/content/drive/My Drive/X-Ray Images\")\n",
        "try:\n",
        "  os.mkdir(\"./data\")\n",
        "except:\n",
        "  pass\n",
        "\n",
        "fl.extractall(\"./data\")"
      ],
      "execution_count": 8,
      "outputs": []
    },
    {
      "cell_type": "code",
      "metadata": {
        "id": "SQ9x1FSH8Wi7"
      },
      "source": [
        "train_dir = \"/content/drive/My Drive/X-Ray Images/data/chest_xray/train\"\n",
        "test_dir  = \"/content/drive/My Drive/X-Ray Images/data/chest_xray/test\""
      ],
      "execution_count": 9,
      "outputs": []
    },
    {
      "cell_type": "code",
      "metadata": {
        "id": "1Ee_UEEB9M8e"
      },
      "source": [
        "train_data_gen = tf.keras.preprocessing.image.ImageDataGenerator(rescale=(1 / 255.0) ,\n",
        "                                                                 width_shift_range=0.15 ,\n",
        "                                                                 height_shift_range=0.15,\n",
        "                                                                 zoom_range=0.15)\n",
        "test_data_gen = tf.keras.preprocessing.image.ImageDataGenerator(rescale=(1 / 255.0))"
      ],
      "execution_count": 37,
      "outputs": []
    },
    {
      "cell_type": "code",
      "metadata": {
        "id": "AU5V7bR7-fDq",
        "outputId": "f03a419e-aaf0-4e06-911e-d8738c7066a3",
        "colab": {
          "base_uri": "https://localhost:8080/",
          "height": 50
        }
      },
      "source": [
        "train_data = train_data_gen.flow_from_directory(train_dir ,\n",
        "                                                target_size=(250,250),\n",
        "                                                class_mode='binary',\n",
        "                                                batch_size=32)\n",
        "\n",
        "test_data  = test_data_gen.flow_from_directory(test_dir ,\n",
        "                                                target_size=(250,250),\n",
        "                                                class_mode='binary',\n",
        "                                                batch_size=32)"
      ],
      "execution_count": 38,
      "outputs": [
        {
          "output_type": "stream",
          "text": [
            "Found 5216 images belonging to 2 classes.\n",
            "Found 624 images belonging to 2 classes.\n"
          ],
          "name": "stdout"
        }
      ]
    },
    {
      "cell_type": "code",
      "metadata": {
        "id": "idIPnqF3-4IU"
      },
      "source": [
        "pre_train_model = tf.keras.applications.vgg16.VGG16(weights='imagenet' , include_top=False , input_shape=(250,250,3))"
      ],
      "execution_count": 49,
      "outputs": []
    },
    {
      "cell_type": "code",
      "metadata": {
        "id": "XKAxkEi6_Rot",
        "outputId": "ef17f8f5-62e9-4b86-f549-72c00164c400",
        "colab": {
          "base_uri": "https://localhost:8080/",
          "height": 790
        }
      },
      "source": [
        "pre_train_model.summary()"
      ],
      "execution_count": 50,
      "outputs": [
        {
          "output_type": "stream",
          "text": [
            "Model: \"vgg16\"\n",
            "_________________________________________________________________\n",
            "Layer (type)                 Output Shape              Param #   \n",
            "=================================================================\n",
            "input_3 (InputLayer)         [(None, 250, 250, 3)]     0         \n",
            "_________________________________________________________________\n",
            "block1_conv1 (Conv2D)        (None, 250, 250, 64)      1792      \n",
            "_________________________________________________________________\n",
            "block1_conv2 (Conv2D)        (None, 250, 250, 64)      36928     \n",
            "_________________________________________________________________\n",
            "block1_pool (MaxPooling2D)   (None, 125, 125, 64)      0         \n",
            "_________________________________________________________________\n",
            "block2_conv1 (Conv2D)        (None, 125, 125, 128)     73856     \n",
            "_________________________________________________________________\n",
            "block2_conv2 (Conv2D)        (None, 125, 125, 128)     147584    \n",
            "_________________________________________________________________\n",
            "block2_pool (MaxPooling2D)   (None, 62, 62, 128)       0         \n",
            "_________________________________________________________________\n",
            "block3_conv1 (Conv2D)        (None, 62, 62, 256)       295168    \n",
            "_________________________________________________________________\n",
            "block3_conv2 (Conv2D)        (None, 62, 62, 256)       590080    \n",
            "_________________________________________________________________\n",
            "block3_conv3 (Conv2D)        (None, 62, 62, 256)       590080    \n",
            "_________________________________________________________________\n",
            "block3_pool (MaxPooling2D)   (None, 31, 31, 256)       0         \n",
            "_________________________________________________________________\n",
            "block4_conv1 (Conv2D)        (None, 31, 31, 512)       1180160   \n",
            "_________________________________________________________________\n",
            "block4_conv2 (Conv2D)        (None, 31, 31, 512)       2359808   \n",
            "_________________________________________________________________\n",
            "block4_conv3 (Conv2D)        (None, 31, 31, 512)       2359808   \n",
            "_________________________________________________________________\n",
            "block4_pool (MaxPooling2D)   (None, 15, 15, 512)       0         \n",
            "_________________________________________________________________\n",
            "block5_conv1 (Conv2D)        (None, 15, 15, 512)       2359808   \n",
            "_________________________________________________________________\n",
            "block5_conv2 (Conv2D)        (None, 15, 15, 512)       2359808   \n",
            "_________________________________________________________________\n",
            "block5_conv3 (Conv2D)        (None, 15, 15, 512)       2359808   \n",
            "_________________________________________________________________\n",
            "block5_pool (MaxPooling2D)   (None, 7, 7, 512)         0         \n",
            "=================================================================\n",
            "Total params: 14,714,688\n",
            "Trainable params: 14,714,688\n",
            "Non-trainable params: 0\n",
            "_________________________________________________________________\n"
          ],
          "name": "stdout"
        }
      ]
    },
    {
      "cell_type": "code",
      "metadata": {
        "id": "qvBY8jaN_X3-"
      },
      "source": [
        "train_ = False\n",
        "for layer in pre_train_model.layers:\n",
        "  if layer.name == 'block5_conv1':\n",
        "    train_ = True\n",
        "  layer.trainable = train_"
      ],
      "execution_count": 51,
      "outputs": []
    },
    {
      "cell_type": "code",
      "metadata": {
        "id": "YkFIAgbS_4rH",
        "outputId": "5c570594-43e6-495a-f844-def2b6126b49",
        "colab": {
          "base_uri": "https://localhost:8080/",
          "height": 790
        }
      },
      "source": [
        "pre_train_model.summary()"
      ],
      "execution_count": 52,
      "outputs": [
        {
          "output_type": "stream",
          "text": [
            "Model: \"vgg16\"\n",
            "_________________________________________________________________\n",
            "Layer (type)                 Output Shape              Param #   \n",
            "=================================================================\n",
            "input_3 (InputLayer)         [(None, 250, 250, 3)]     0         \n",
            "_________________________________________________________________\n",
            "block1_conv1 (Conv2D)        (None, 250, 250, 64)      1792      \n",
            "_________________________________________________________________\n",
            "block1_conv2 (Conv2D)        (None, 250, 250, 64)      36928     \n",
            "_________________________________________________________________\n",
            "block1_pool (MaxPooling2D)   (None, 125, 125, 64)      0         \n",
            "_________________________________________________________________\n",
            "block2_conv1 (Conv2D)        (None, 125, 125, 128)     73856     \n",
            "_________________________________________________________________\n",
            "block2_conv2 (Conv2D)        (None, 125, 125, 128)     147584    \n",
            "_________________________________________________________________\n",
            "block2_pool (MaxPooling2D)   (None, 62, 62, 128)       0         \n",
            "_________________________________________________________________\n",
            "block3_conv1 (Conv2D)        (None, 62, 62, 256)       295168    \n",
            "_________________________________________________________________\n",
            "block3_conv2 (Conv2D)        (None, 62, 62, 256)       590080    \n",
            "_________________________________________________________________\n",
            "block3_conv3 (Conv2D)        (None, 62, 62, 256)       590080    \n",
            "_________________________________________________________________\n",
            "block3_pool (MaxPooling2D)   (None, 31, 31, 256)       0         \n",
            "_________________________________________________________________\n",
            "block4_conv1 (Conv2D)        (None, 31, 31, 512)       1180160   \n",
            "_________________________________________________________________\n",
            "block4_conv2 (Conv2D)        (None, 31, 31, 512)       2359808   \n",
            "_________________________________________________________________\n",
            "block4_conv3 (Conv2D)        (None, 31, 31, 512)       2359808   \n",
            "_________________________________________________________________\n",
            "block4_pool (MaxPooling2D)   (None, 15, 15, 512)       0         \n",
            "_________________________________________________________________\n",
            "block5_conv1 (Conv2D)        (None, 15, 15, 512)       2359808   \n",
            "_________________________________________________________________\n",
            "block5_conv2 (Conv2D)        (None, 15, 15, 512)       2359808   \n",
            "_________________________________________________________________\n",
            "block5_conv3 (Conv2D)        (None, 15, 15, 512)       2359808   \n",
            "_________________________________________________________________\n",
            "block5_pool (MaxPooling2D)   (None, 7, 7, 512)         0         \n",
            "=================================================================\n",
            "Total params: 14,714,688\n",
            "Trainable params: 7,079,424\n",
            "Non-trainable params: 7,635,264\n",
            "_________________________________________________________________\n"
          ],
          "name": "stdout"
        }
      ]
    },
    {
      "cell_type": "code",
      "metadata": {
        "id": "8tNKy225ACsi"
      },
      "source": [
        "model = tf.keras.models.Sequential()\n",
        "model.add(pre_train_model)\n",
        "model.add(tf.keras.layers.Flatten())\n",
        "model.add(tf.keras.layers.Dense(256 , kernel_regularizer=tf.keras.regularizers.l2(0.0001) , activation=\"relu\"))\n",
        "model.add(tf.keras.layers.Dropout(0.2))\n",
        "model.add(tf.keras.layers.Dense(256 , kernel_regularizer=tf.keras.regularizers.l2(0.0001) , activation=\"relu\"))\n",
        "model.add(tf.keras.layers.Dense(1 , activation = \"sigmoid\"))"
      ],
      "execution_count": 53,
      "outputs": []
    },
    {
      "cell_type": "code",
      "metadata": {
        "id": "jveHUkU_BkTC",
        "outputId": "7ad4df15-9eef-4e28-d3d1-0a7bbef13661",
        "colab": {
          "base_uri": "https://localhost:8080/",
          "height": 353
        }
      },
      "source": [
        "model.summary()"
      ],
      "execution_count": 54,
      "outputs": [
        {
          "output_type": "stream",
          "text": [
            "Model: \"sequential_3\"\n",
            "_________________________________________________________________\n",
            "Layer (type)                 Output Shape              Param #   \n",
            "=================================================================\n",
            "vgg16 (Functional)           (None, 7, 7, 512)         14714688  \n",
            "_________________________________________________________________\n",
            "flatten_3 (Flatten)          (None, 25088)             0         \n",
            "_________________________________________________________________\n",
            "dense_9 (Dense)              (None, 256)               6422784   \n",
            "_________________________________________________________________\n",
            "dropout_5 (Dropout)          (None, 256)               0         \n",
            "_________________________________________________________________\n",
            "dense_10 (Dense)             (None, 256)               65792     \n",
            "_________________________________________________________________\n",
            "dense_11 (Dense)             (None, 1)                 257       \n",
            "=================================================================\n",
            "Total params: 21,203,521\n",
            "Trainable params: 13,568,257\n",
            "Non-trainable params: 7,635,264\n",
            "_________________________________________________________________\n"
          ],
          "name": "stdout"
        }
      ]
    },
    {
      "cell_type": "code",
      "metadata": {
        "id": "8FrKj9ErBmGO"
      },
      "source": [
        "model.compile(optimizer=tf.keras.optimizers.RMSprop(learning_rate=0.00001) ,\n",
        "              loss=tf.keras.losses.binary_crossentropy ,\n",
        "              metrics=['acc'])"
      ],
      "execution_count": 55,
      "outputs": []
    },
    {
      "cell_type": "code",
      "metadata": {
        "id": "4u46-090CIWr"
      },
      "source": [
        "class MyCallBack(tf.keras.callbacks.Callback):\n",
        "  def on_epoch_end(self , epoch , logs={}):\n",
        "    if logs['acc'] > 0.98:\n",
        "      print(\"Get 98% acc on training data!!!\")\n",
        "      self.model.stop_training = True"
      ],
      "execution_count": 56,
      "outputs": []
    },
    {
      "cell_type": "code",
      "metadata": {
        "id": "4vM4-e4ECTWL",
        "outputId": "65653586-4c19-4c0d-db1f-c9b89f8ce785",
        "colab": {
          "base_uri": "https://localhost:8080/",
          "height": 370
        }
      },
      "source": [
        "his1 = model.fit(train_data ,\n",
        "                 steps_per_epoch=train_data.n // train_data.batch_size ,\n",
        "                 epochs = 25,\n",
        "                 validation_data=test_data ,\n",
        "                 validation_steps=test_data.n // test_data.batch_size,\n",
        "                 callbacks = [MyCallBack()])"
      ],
      "execution_count": 57,
      "outputs": [
        {
          "output_type": "stream",
          "text": [
            "Epoch 1/25\n",
            "163/163 [==============================] - 133s 818ms/step - loss: 0.3089 - acc: 0.8965 - val_loss: 0.3751 - val_acc: 0.8816\n",
            "Epoch 2/25\n",
            "163/163 [==============================] - 133s 816ms/step - loss: 0.2018 - acc: 0.9473 - val_loss: 0.2947 - val_acc: 0.9112\n",
            "Epoch 3/25\n",
            "163/163 [==============================] - 133s 818ms/step - loss: 0.1678 - acc: 0.9599 - val_loss: 0.3674 - val_acc: 0.9013\n",
            "Epoch 4/25\n",
            "163/163 [==============================] - 133s 818ms/step - loss: 0.1615 - acc: 0.9647 - val_loss: 0.4373 - val_acc: 0.8865\n",
            "Epoch 5/25\n",
            "163/163 [==============================] - 132s 810ms/step - loss: 0.1452 - acc: 0.9703 - val_loss: 0.3031 - val_acc: 0.9243\n",
            "Epoch 6/25\n",
            "163/163 [==============================] - 132s 810ms/step - loss: 0.1339 - acc: 0.9714 - val_loss: 0.3749 - val_acc: 0.8980\n",
            "Epoch 7/25\n",
            "163/163 [==============================] - 133s 818ms/step - loss: 0.1265 - acc: 0.9722 - val_loss: 0.3144 - val_acc: 0.9194\n",
            "Epoch 8/25\n",
            "163/163 [==============================] - 136s 836ms/step - loss: 0.1215 - acc: 0.9745 - val_loss: 0.2566 - val_acc: 0.9309\n",
            "Epoch 9/25\n",
            "163/163 [==============================] - 137s 839ms/step - loss: 0.1115 - acc: 0.9787 - val_loss: 0.2908 - val_acc: 0.9243\n",
            "Epoch 10/25\n",
            "163/163 [==============================] - ETA: 0s - loss: 0.1080 - acc: 0.9810Get 98% acc on training data!!!\n",
            "163/163 [==============================] - 135s 825ms/step - loss: 0.1080 - acc: 0.9810 - val_loss: 0.2991 - val_acc: 0.9260\n"
          ],
          "name": "stdout"
        }
      ]
    },
    {
      "cell_type": "code",
      "metadata": {
        "id": "zXMCD2F2DVdp"
      },
      "source": [
        "validation_data_gen = tf.keras.preprocessing.image.ImageDataGenerator(rescale=1.0 / 255.0)"
      ],
      "execution_count": 58,
      "outputs": []
    },
    {
      "cell_type": "code",
      "metadata": {
        "id": "BamGXZKiO1xW",
        "outputId": "068a070d-e155-4115-cd1f-c70154f5bf7a",
        "colab": {
          "base_uri": "https://localhost:8080/",
          "height": 34
        }
      },
      "source": [
        "validation_data = validation_data_gen.flow_from_directory(\"/content/drive/My Drive/X-Ray Images/data/chest_xray/val\",\n",
        "                                                          target_size = (250,250),\n",
        "                                                          class_mode=\"binary\")"
      ],
      "execution_count": 59,
      "outputs": [
        {
          "output_type": "stream",
          "text": [
            "Found 16 images belonging to 2 classes.\n"
          ],
          "name": "stdout"
        }
      ]
    },
    {
      "cell_type": "code",
      "metadata": {
        "id": "JEeEujcLPGAi",
        "outputId": "3869fd95-8e85-4053-a6c7-ee1fc5eb92a7",
        "colab": {
          "base_uri": "https://localhost:8080/",
          "height": 50
        }
      },
      "source": [
        "validation_acc = model.evaluate(validation_data)\n",
        "print(\"Validation accurecy is : %.3f %%\"%(validation_acc[1] * 100))"
      ],
      "execution_count": 63,
      "outputs": [
        {
          "output_type": "stream",
          "text": [
            "1/1 [==============================] - 0s 2ms/step - loss: 0.2239 - acc: 0.9375\n",
            "Validation accurecy is : 93.750 %\n"
          ],
          "name": "stdout"
        }
      ]
    },
    {
      "cell_type": "code",
      "metadata": {
        "id": "znAKrUdMPN3P",
        "outputId": "78623576-eb2f-49d6-bb12-34694dd82733",
        "colab": {
          "base_uri": "https://localhost:8080/",
          "height": 353
        }
      },
      "source": [
        "_ , ax = plt.subplots(1,2,figsize = (16,5))\n",
        "\n",
        "ax[0].plot(his1.history['acc'] , label = \"Training data\")\n",
        "ax[0].plot(his1.history['val_acc'], label = \"Testing data\")\n",
        "ax[0].set_title(\"Accurecy\")\n",
        "ax[0].legend()\n",
        "\n",
        "ax[1].plot(his1.history['loss'] , label = \"Training data\")\n",
        "ax[1].plot(his1.history['val_loss'], label = \"Testing data\")\n",
        "ax[1].set_title(\"Crossentropy\")\n",
        "ax[1].legend()"
      ],
      "execution_count": 66,
      "outputs": [
        {
          "output_type": "execute_result",
          "data": {
            "text/plain": [
              "<matplotlib.legend.Legend at 0x7fcb343197b8>"
            ]
          },
          "metadata": {
            "tags": []
          },
          "execution_count": 66
        },
        {
          "output_type": "display_data",
          "data": {
            "image/png": "[encoded data removed]",
            "text/plain": [
              "<Figure size 1152x360 with 2 Axes>"
            ]
          },
          "metadata": {
            "tags": []
          }
        }
      ]
    },
    {
      "cell_type": "code",
      "metadata": {
        "id": "nvZJKNOEP-G_"
      },
      "source": [
        ""
      ],
      "execution_count": null,
      "outputs": []
    }
  ]
}