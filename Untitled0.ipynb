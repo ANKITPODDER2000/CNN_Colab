{
  "nbformat": 4,
  "nbformat_minor": 0,
  "metadata": {
    "colab": {
      "name": "Untitled0.ipynb",
      "provenance": [],
      "mount_file_id": "1vvKvCU-zGlroc0fUZ21EpZlWdiWYvTz7",
      "authorship_tag": "ABX9TyN0oH31QbEtWxgOxTiBkTW7",
      "include_colab_link": true
    },
    "kernelspec": {
      "name": "python3",
      "display_name": "Python 3"
    },
    "accelerator": "GPU"
  },
  "cells": [
    {
      "cell_type": "markdown",
      "metadata": {
        "id": "view-in-github",
        "colab_type": "text"
      },
      "source": [
        "<a href=\"https://colab.research.google.com/github/ANKITPODDER2000/CNN_Colab/blob/master/Untitled0.ipynb\" target=\"_parent\"><img src=\"https://colab.research.google.com/assets/colab-badge.svg\" alt=\"Open In Colab\"/></a>"
      ]
    },
    {
      "cell_type": "code",
      "metadata": {
        "id": "0uJIdt2ALBYx",
        "colab_type": "code",
        "colab": {}
      },
      "source": [
        "from google.colab import files\n",
        "files.upload()\n",
        "\n",
        "! mkdir ~/.kaggle\n",
        "! cp kaggle.json ~/.kaggle/\n",
        "! chmod 600 ~/.kaggle/kaggle.json"
      ],
      "execution_count": null,
      "outputs": []
    },
    {
      "cell_type": "code",
      "metadata": {
        "id": "W5UtoaHLLWH2",
        "colab_type": "code",
        "colab": {}
      },
      "source": [
        "!kaggle datasets download -d paultimothymooney/chest-xray-pneumonia"
      ],
      "execution_count": null,
      "outputs": []
    },
    {
      "cell_type": "code",
      "metadata": {
        "id": "-Y8pSKMQL5_n",
        "colab_type": "code",
        "colab": {}
      },
      "source": [
        "import tensorflow as tf\n",
        "import matplotlib.pyplot as plt\n",
        "%matplotlib inline\n",
        "import os\n",
        "import shutil\n",
        "import numpy as np\n",
        "import zipfile\n",
        "print(\"Version of tensorflow is : \" , tf.__version__)"
      ],
      "execution_count": null,
      "outputs": []
    },
    {
      "cell_type": "code",
      "metadata": {
        "id": "iglgi0lfM-in",
        "colab_type": "code",
        "colab": {}
      },
      "source": [
        "src = \"/content/chest-xray-pneumonia.zip\"\n",
        "des = \"/content/drive/My Drive/CNN/Chest\"\n",
        "shutil.copy(src , des)"
      ],
      "execution_count": null,
      "outputs": []
    },
    {
      "cell_type": "code",
      "metadata": {
        "id": "jQpX-hTSNOaG",
        "colab_type": "code",
        "colab": {}
      },
      "source": [
        "os.chdir(\"/content/drive/My Drive/CNN/Chest\")\n",
        "print(\"Current path : \",os.getcwd())\n",
        "fl = zipfile.ZipFile(\"/content/drive/My Drive/CNN/Chest/chest-xray-pneumonia.zip\" , \"r\")\n",
        "os.mkdir(\"./data\")"
      ],
      "execution_count": null,
      "outputs": []
    },
    {
      "cell_type": "code",
      "metadata": {
        "id": "hjf0A14SN5DB",
        "colab_type": "code",
        "colab": {}
      },
      "source": [
        "fl.extractall(\"./data\")"
      ],
      "execution_count": 6,
      "outputs": []
    },
    {
      "cell_type": "code",
      "metadata": {
        "id": "uiDeWASgN8P7",
        "colab_type": "code",
        "colab": {
          "base_uri": "https://localhost:8080/",
          "height": 34
        },
        "outputId": "95399ba1-1103-476f-d544-a0c569b45d37"
      },
      "source": [
        "print(\"List dir : \",os.listdir(\"/content/drive/My Drive/CNN/Chest/data/chest_xray/\"))"
      ],
      "execution_count": 9,
      "outputs": [
        {
          "output_type": "stream",
          "text": [
            "List dir :  ['.DS_Store', 'test', 'train', 'val']\n"
          ],
          "name": "stdout"
        }
      ]
    },
    {
      "cell_type": "code",
      "metadata": {
        "id": "kZEMlFX-Ohbu",
        "colab_type": "code",
        "colab": {}
      },
      "source": [
        "test_dir  = \"/content/drive/My Drive/CNN/Chest/data/chest_xray/test\"\n",
        "train_dir = \"/content/drive/My Drive/CNN/Chest/data/chest_xray/train\"\n",
        "val_dir   = \"/content/drive/My Drive/CNN/Chest/data/chest_xray/val\""
      ],
      "execution_count": 10,
      "outputs": []
    },
    {
      "cell_type": "code",
      "metadata": {
        "id": "wxpU3tggPSkP",
        "colab_type": "code",
        "colab": {}
      },
      "source": [
        "train_data_gen = tf.keras.preprocessing.image.ImageDataGenerator(rescale=(1.0 / 255.0) ,\n",
        "                                                                  height_shift_range = 0.1 ,\n",
        "                                                                  width_shift_range = 0.1 ,\n",
        "                                                                  zoom_range = 0.1 ,\n",
        "                                                                  rotation_range = 10)\n",
        "\n",
        "test_data_gen  = tf.keras.preprocessing.image.ImageDataGenerator(rescale = (1.0 / 255.0))"
      ],
      "execution_count": 12,
      "outputs": []
    },
    {
      "cell_type": "code",
      "metadata": {
        "id": "pKglkd8ZPydN",
        "colab_type": "code",
        "colab": {
          "base_uri": "https://localhost:8080/",
          "height": 50
        },
        "outputId": "cc9175de-2c62-4fed-bbb1-c6af33c30cae"
      },
      "source": [
        "train_data = train_data_gen.flow_from_directory(train_dir ,\n",
        "                                                batch_size = 32 ,\n",
        "                                                class_mode = \"binary\" ,\n",
        "                                                target_size = (512 , 512))\n",
        "\n",
        "test_data   = train_data_gen.flow_from_directory(test_dir ,\n",
        "                                                batch_size = 32 ,\n",
        "                                                class_mode = \"binary\" ,\n",
        "                                                target_size = (512 , 512))"
      ],
      "execution_count": 17,
      "outputs": [
        {
          "output_type": "stream",
          "text": [
            "Found 5216 images belonging to 2 classes.\n",
            "Found 624 images belonging to 2 classes.\n"
          ],
          "name": "stdout"
        }
      ]
    },
    {
      "cell_type": "code",
      "metadata": {
        "id": "b2mwFXZpQ-Cg",
        "colab_type": "code",
        "colab": {}
      },
      "source": [
        "model1 = tf.keras.models.Sequential([\n",
        "    tf.keras.layers.Conv2D(16 , (3,3) , activation = \"relu\" , input_shape = (512 , 512 , 3)),\n",
        "    tf.keras.layers.MaxPool2D((2,2)),\n",
        "\n",
        "    tf.keras.layers.Conv2D(32 , (3,3) , activation = \"relu\"),\n",
        "    tf.keras.layers.MaxPool2D((2,2)),\n",
        "\n",
        "    tf.keras.layers.Conv2D(64 , (3,3) , activation = \"relu\"),\n",
        "    tf.keras.layers.MaxPool2D((2,2)),\n",
        "\n",
        "    tf.keras.layers.Conv2D(64 , (3,3) , activation = \"relu\"),\n",
        "    tf.keras.layers.MaxPool2D((2,2)),\n",
        "\n",
        "    tf.keras.layers.Conv2D(64 , (3,3) , activation = \"relu\"),\n",
        "    tf.keras.layers.MaxPool2D((2,2)),\n",
        "\n",
        "    tf.keras.layers.Conv2D(128 , (3,3) , activation = \"relu\"),\n",
        "    tf.keras.layers.MaxPool2D((2,2)),\n",
        "\n",
        "    tf.keras.layers.Flatten(),\n",
        "    tf.keras.layers.Dense(128 , activation = \"relu\"),\n",
        "    tf.keras.layers.Dense(128 , activation = \"relu\"),\n",
        "    tf.keras.layers.Dense(1 , activation = \"sigmoid\")\n",
        "])\n",
        "model1.compile(optimizer = \"rmsprop\" , loss = tf.keras.losses.binary_crossentropy , metrics = ['acc'])\n",
        "#model1.summary()"
      ],
      "execution_count": 26,
      "outputs": []
    },
    {
      "cell_type": "code",
      "metadata": {
        "id": "elO516jiSecf",
        "colab_type": "code",
        "colab": {}
      },
      "source": [
        "class myCall(tf.keras.callbacks.Callback):\n",
        "    def on_epoch_end(self , epoch , logs = {}):\n",
        "        if logs.get(\"val_acc\") > 0.97:\n",
        "            print(\"Get 97% acc on test data\")\n",
        "            self.model.stop_training = True\n",
        "        if logs.get(\"val_acc\") < 0.80 and logs.get(\"acc\")>0.96:\n",
        "            print(\"Model Overfitting\")\n",
        "            self.model.stop_training = True"
      ],
      "execution_count": 27,
      "outputs": []
    },
    {
      "cell_type": "code",
      "metadata": {
        "id": "0AvNk7xbRv1X",
        "colab_type": "code",
        "colab": {
          "base_uri": "https://localhost:8080/",
          "height": 437
        },
        "outputId": "a5f4fa20-502a-437e-b9cb-d4f3d84c981a"
      },
      "source": [
        "MyCallBack = myCall\n",
        "his1 = model1.fit(train_data ,\n",
        "                  steps_per_epoch = train_data.n // train_data.batch_size ,\n",
        "                  epochs = 50 ,\n",
        "                  validation_data = test_data ,\n",
        "                  validation_steps = test_data.n // test_data.batch_size,\n",
        "                  callbacks = [MyCallBack()])"
      ],
      "execution_count": 28,
      "outputs": [
        {
          "output_type": "stream",
          "text": [
            "Epoch 1/50\n",
            "163/163 [==============================] - 350s 2s/step - loss: 0.4536 - acc: 0.8127 - val_loss: 0.5533 - val_acc: 0.8010\n",
            "Epoch 2/50\n",
            "163/163 [==============================] - 338s 2s/step - loss: 0.2463 - acc: 0.9091 - val_loss: 0.4138 - val_acc: 0.8668\n",
            "Epoch 3/50\n",
            "163/163 [==============================] - 338s 2s/step - loss: 0.1976 - acc: 0.9245 - val_loss: 0.3578 - val_acc: 0.8750\n",
            "Epoch 4/50\n",
            "163/163 [==============================] - 344s 2s/step - loss: 0.1652 - acc: 0.9354 - val_loss: 0.8728 - val_acc: 0.7812\n",
            "Epoch 5/50\n",
            "163/163 [==============================] - 355s 2s/step - loss: 0.1668 - acc: 0.9352 - val_loss: 0.6903 - val_acc: 0.7484\n",
            "Epoch 6/50\n",
            "163/163 [==============================] - 342s 2s/step - loss: 0.1434 - acc: 0.9479 - val_loss: 0.7641 - val_acc: 0.8224\n",
            "Epoch 7/50\n",
            "163/163 [==============================] - 339s 2s/step - loss: 0.1302 - acc: 0.9515 - val_loss: 0.8763 - val_acc: 0.8224\n",
            "Epoch 8/50\n",
            "163/163 [==============================] - 336s 2s/step - loss: 0.1293 - acc: 0.9525 - val_loss: 0.5723 - val_acc: 0.8569\n",
            "Epoch 9/50\n",
            "163/163 [==============================] - 337s 2s/step - loss: 0.1168 - acc: 0.9607 - val_loss: 0.6620 - val_acc: 0.8224\n",
            "Epoch 10/50\n",
            "163/163 [==============================] - 336s 2s/step - loss: 0.1201 - acc: 0.9607 - val_loss: 0.5211 - val_acc: 0.8191\n",
            "Epoch 11/50\n",
            "163/163 [==============================] - 335s 2s/step - loss: 0.1102 - acc: 0.9620 - val_loss: 0.6647 - val_acc: 0.8750\n",
            "Epoch 12/50\n",
            "163/163 [==============================] - ETA: 0s - loss: 0.1418 - acc: 0.9620Model Overfitting\n",
            "163/163 [==============================] - 334s 2s/step - loss: 0.1418 - acc: 0.9620 - val_loss: 0.6363 - val_acc: 0.7977\n"
          ],
          "name": "stdout"
        }
      ]
    },
    {
      "cell_type": "code",
      "metadata": {
        "id": "0pMLrVVETDuw",
        "colab_type": "code",
        "colab": {}
      },
      "source": [
        ""
      ],
      "execution_count": null,
      "outputs": []
    }
  ]
}