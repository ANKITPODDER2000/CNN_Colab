{
  "nbformat": 4,
  "nbformat_minor": 0,
  "metadata": {
    "colab": {
      "name": "hub1.ipynb",
      "provenance": [],
      "private_outputs": true,
      "mount_file_id": "1ZY8t-VGN2Pi-K92eT7a2FAD30AdYXx7l",
      "authorship_tag": "ABX9TyMx1RRNOhCcNRDv//BpMBlX",
      "include_colab_link": true
    },
    "kernelspec": {
      "name": "python3",
      "display_name": "Python 3"
    }
  },
  "cells": [
    {
      "cell_type": "markdown",
      "metadata": {
        "id": "view-in-github",
        "colab_type": "text"
      },
      "source": [
        "<a href=\"https://colab.research.google.com/github/ANKITPODDER2000/CNN_Colab/blob/master/hub1.ipynb\" target=\"_parent\"><img src=\"https://colab.research.google.com/assets/colab-badge.svg\" alt=\"Open In Colab\"/></a>"
      ]
    },
    {
      "cell_type": "code",
      "metadata": {
        "id": "8fl37OBSi7S7",
        "colab_type": "code",
        "colab": {}
      },
      "source": [
        "import tensorflow as tf\n",
        "import tensorflow_hub as hub\n",
        "import cv2\n",
        "import matplotlib.pyplot as plt\n",
        "%matplotlib inline"
      ],
      "execution_count": null,
      "outputs": []
    },
    {
      "cell_type": "code",
      "metadata": {
        "id": "eUUdKcWVjQfF",
        "colab_type": "code",
        "colab": {}
      },
      "source": [
        "classifier_url =\"https://tfhub.dev/google/tf2-preview/mobilenet_v2/classification/2\"\n",
        "feature_extractor_url = \"https://tfhub.dev/google/tf2-preview/mobilenet_v2/feature_vector/2\" "
      ],
      "execution_count": null,
      "outputs": []
    },
    {
      "cell_type": "code",
      "metadata": {
        "id": "if7TK5cEjXdl",
        "colab_type": "code",
        "colab": {}
      },
      "source": [
        "model1 = tf.keras.models.Sequential([\n",
        "    hub.KerasLayer(classifier_url,input_shape=(224,224,3))\n",
        "])"
      ],
      "execution_count": null,
      "outputs": []
    },
    {
      "cell_type": "code",
      "metadata": {
        "id": "uC36LM3djz6u",
        "colab_type": "code",
        "colab": {}
      },
      "source": [
        "import os\n",
        "os.chdir(\"/content/drive/My Drive/CNN/Dog&Cat\")"
      ],
      "execution_count": null,
      "outputs": []
    },
    {
      "cell_type": "code",
      "metadata": {
        "id": "cQJfiSJAkMKT",
        "colab_type": "code",
        "colab": {}
      },
      "source": [
        "dog = tf.keras.utils.get_file(\"./dog1.jpg\",\"https://i.insider.com/5df126b679d7570ad2044f3e?width=1100&format=jpeg&auto=webp\")"
      ],
      "execution_count": null,
      "outputs": []
    },
    {
      "cell_type": "code",
      "metadata": {
        "id": "g7x-lamykb_e",
        "colab_type": "code",
        "colab": {}
      },
      "source": [
        "d = cv2.imread(dog)\n",
        "d = cv2.resize(d,(224,224))\n",
        "plt.imshow(d)\n",
        "d = d / 255"
      ],
      "execution_count": null,
      "outputs": []
    },
    {
      "cell_type": "code",
      "metadata": {
        "id": "zOoNBTnNlGhG",
        "colab_type": "code",
        "colab": {}
      },
      "source": [
        "d.max()"
      ],
      "execution_count": null,
      "outputs": []
    },
    {
      "cell_type": "code",
      "metadata": {
        "id": "xBbZKv8llJeW",
        "colab_type": "code",
        "colab": {}
      },
      "source": [
        "import numpy as np\n",
        "model1.predict_classes(d[np.newaxis])"
      ],
      "execution_count": null,
      "outputs": []
    },
    {
      "cell_type": "code",
      "metadata": {
        "id": "fvJcG0dwla6c",
        "colab_type": "code",
        "colab": {}
      },
      "source": [
        "label_url = \"https://storage.googleapis.com/download.tensorflow.org/data/ImageNetLabels.txt\"\n",
        "label_path = tf.keras.utils.get_file(\"./label.txt\",label_url)"
      ],
      "execution_count": null,
      "outputs": []
    },
    {
      "cell_type": "code",
      "metadata": {
        "id": "z_3n3d3Vlqp7",
        "colab_type": "code",
        "colab": {}
      },
      "source": [
        "label = open(label_path,\"r\")\n",
        "a = label.read().split(\"\\n\")"
      ],
      "execution_count": null,
      "outputs": []
    },
    {
      "cell_type": "code",
      "metadata": {
        "id": "_EEToKF0mAHS",
        "colab_type": "code",
        "colab": {}
      },
      "source": [
        "a[223]"
      ],
      "execution_count": null,
      "outputs": []
    }
  ]
}